{
 "cells": [
  {
   "cell_type": "code",
   "execution_count": 2,
   "metadata": {},
   "outputs": [],
   "source": [
    "import os\n",
    "import numpy as np\n",
    "import matplotlib.pyplot as plt\n",
    "from astropy.io import fits\n",
    "from astropy.table import Table\n",
    "import glob\n",
    "homedir = os.path.expanduser('~')"
   ]
  },
  {
   "cell_type": "code",
   "execution_count": 3,
   "metadata": {},
   "outputs": [
    {
     "data": {
      "text/plain": [
       "dict_keys(['t1400g1000f1', 't1400g1000f2', 't1400g1000f3', 't1400g1000f4', 't1400g1000f8', 't1400g1000nc', 't1500g1000f1', 't1500g1000f2', 't1500g1000f3', 't1500g1000f4', 't1500g1000f8', 't1500g1000nc'])"
      ]
     },
     "execution_count": 3,
     "metadata": {},
     "output_type": "execute_result"
    }
   ],
   "source": [
    "nobs=14\n",
    "chipmods = {}\n",
    "chiplams = {}\n",
    "chisq = {}\n",
    "vsini = {}\n",
    "rv = {}\n",
    "lld = {}\n",
    "wcoef = {}\n",
    "modellist = []\n",
    "for f in sorted(glob.glob(f\"{homedir}/uoedrive/result/Callie/IGRINS_W1049B_K_binned_chipmods_*.fits\")):\n",
    "    modelname = f.split(\"_\")[-1][:12]\n",
    "    chipmods[modelname] = fits.getdata(f)\n",
    "    modellist.append(modelname)\n",
    "for f in sorted(glob.glob(f\"{homedir}/uoedrive/result/Callie/IGRINS_W1049B_K_binned_chiplams_*.fits\")):\n",
    "    modelname = f.split(\"_\")[-1][:12]\n",
    "    chiplams[modelname] = fits.getdata(f)\n",
    "for f in sorted(glob.glob(f\"{homedir}/uoedrive/result/Callie/IGRINS_W1049B_K_binned_*.txt\")):\n",
    "    modelname = f.split(\"_\")[-1][:12]\n",
    "    results = Table.read(f, format='ascii')\n",
    "    chisq[modelname] = results['chisq']\n",
    "    vsini[modelname] = results['vsini']\n",
    "    rv[modelname] = results['rv']\n",
    "    lld[modelname] = results['lld']\n",
    "    wcoef[modelname] = results['wcoef']\n",
    "chisq.keys()"
   ]
  }
 ],
 "metadata": {
  "kernelspec": {
   "display_name": "Python 3",
   "language": "python",
   "name": "python3"
  },
  "language_info": {
   "codemirror_mode": {
    "name": "ipython",
    "version": 3
   },
   "file_extension": ".py",
   "mimetype": "text/x-python",
   "name": "python",
   "nbconvert_exporter": "python",
   "pygments_lexer": "ipython3",
   "version": "3.9.6"
  },
  "orig_nbformat": 4,
  "vscode": {
   "interpreter": {
    "hash": "31f2aee4e71d21fbe5cf8b01ff0e069b9275f58929596ceb00d14d90e3e16cd6"
   }
  }
 },
 "nbformat": 4,
 "nbformat_minor": 2
}
