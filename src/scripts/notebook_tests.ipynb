{
 "cells": [
  {
   "cell_type": "code",
   "execution_count": 2,
   "metadata": {},
   "outputs": [],
   "source": [
    "import os\n",
    "import numpy as np\n",
    "import matplotlib.pyplot as plt\n",
    "from astropy.io import fits\n",
    "from astropy.table import Table\n",
    "import glob\n",
    "homedir = os.path.expanduser('~')"
   ]
  },
  {
   "cell_type": "code",
   "execution_count": 3,
   "metadata": {},
   "outputs": [
    {
     "data": {
      "text/plain": [
       "dict_keys(['t1400g1000f1', 't1400g1000f2', 't1400g1000f3', 't1400g1000f4', 't1400g1000f8', 't1400g1000nc', 't1500g1000f1', 't1500g1000f2', 't1500g1000f3', 't1500g1000f4', 't1500g1000f8', 't1500g1000nc'])"
      ]
     },
     "execution_count": 3,
     "metadata": {},
     "output_type": "execute_result"
    }
   ],
   "source": [
    "nobs=14\n",
    "chipmods = {}\n",
    "chiplams = {}\n",
    "chisq = {}\n",
    "vsini = {}\n",
    "rv = {}\n",
    "lld = {}\n",
    "wcoef = {}\n",
    "modellist = []\n",
    "for f in sorted(glob.glob(f\"{homedir}/uoedrive/result/Callie/IGRINS_W1049B_K_binned_chipmods_*.fits\")):\n",
    "    modelname = f.split(\"_\")[-1][:12]\n",
    "    chipmods[modelname] = fits.getdata(f)\n",
    "    modellist.append(modelname)\n",
    "for f in sorted(glob.glob(f\"{homedir}/uoedrive/result/Callie/IGRINS_W1049B_K_binned_chiplams_*.fits\")):\n",
    "    modelname = f.split(\"_\")[-1][:12]\n",
    "    chiplams[modelname] = fits.getdata(f)\n",
    "for f in sorted(glob.glob(f\"{homedir}/uoedrive/result/Callie/IGRINS_W1049B_K_binned_*.txt\")):\n",
    "    modelname = f.split(\"_\")[-1][:12]\n",
    "    results = Table.read(f, format='ascii')\n",
    "    chisq[modelname] = results['chisq']\n",
    "    vsini[modelname] = results['vsini']\n",
    "    rv[modelname] = results['rv']\n",
    "    lld[modelname] = results['lld']\n",
    "    wcoef[modelname] = results['wcoef']\n",
    "chisq.keys()"
   ]
  },
  {
   "cell_type": "code",
   "execution_count": 124,
   "metadata": {},
   "outputs": [
    {
     "data": {
      "text/plain": [
       "array([-100.,  -99.,  -98.,  -97.,  -96.,  -95.,  -94.,  -93.,  -92.,\n",
       "        -91.,  -90.,  -89.,  -88.,  -87.,  -86.,  -85.,  -84.,  -83.,\n",
       "        -82.,  -81.,  -80.,  -79.,  -78.,  -77.,  -76.,  -75.,  -74.,\n",
       "        -73.,  -72.,  -71.,  -70.,  -69.,  -68.,  -67.,  -66.,  -65.,\n",
       "        -64.,  -63.,  -62.,  -61.,  -60.,  -59.,  -58.,  -57.,  -56.,\n",
       "        -55.,  -54.,  -53.,  -52.,  -51.,  -50.,  -49.,  -48.,  -47.,\n",
       "        -46.,  -45.,  -44.,  -43.,  -42.,  -41.,  -40.,  -39.,  -38.,\n",
       "        -37.,  -36.,  -35.,  -34.,  -33.,  -32.,  -31.,  -30.,  -29.,\n",
       "        -28.,  -27.,  -26.,  -25.,  -24.,  -23.,  -22.,  -21.,  -20.,\n",
       "        -19.,  -18.,  -17.,  -16.,  -15.,  -14.,  -13.,  -12.,  -11.,\n",
       "        -10.,   -9.,   -8.,   -7.,   -6.,   -5.,   -4.,   -3.,   -2.,\n",
       "         -1.,    0.,    1.,    2.,    3.,    4.,    5.,    6.,    7.,\n",
       "          8.,    9.,   10.,   11.,   12.,   13.,   14.,   15.,   16.,\n",
       "         17.,   18.,   19.,   20.,   21.,   22.,   23.,   24.,   25.,\n",
       "         26.,   27.,   28.,   29.,   30.,   31.,   32.,   33.,   34.,\n",
       "         35.,   36.,   37.,   38.,   39.,   40.,   41.,   42.,   43.,\n",
       "         44.,   45.,   46.,   47.,   48.,   49.,   50.,   51.,   52.,\n",
       "         53.,   54.,   55.,   56.,   57.,   58.,   59.,   60.,   61.,\n",
       "         62.,   63.,   64.,   65.,   66.,   67.,   68.,   69.,   70.,\n",
       "         71.,   72.,   73.,   74.,   75.,   76.,   77.,   78.,   79.,\n",
       "         80.,   81.,   82.,   83.,   84.,   85.,   86.,   87.,   88.,\n",
       "         89.,   90.,   91.,   92.,   93.,   94.,   95.,   96.,   97.,\n",
       "         98.,   99.])"
      ]
     },
     "execution_count": 124,
     "metadata": {},
     "output_type": "execute_result"
    }
   ],
   "source": [
    "nk=200\n",
    "np.arange(np.floor(-nk/2.+.5), np.floor(nk/2.+.5))"
   ]
  },
  {
   "cell_type": "code",
   "execution_count": 150,
   "metadata": {},
   "outputs": [
    {
     "data": {
      "text/plain": [
       "array([ 201.  ,  198.99,  196.98,  194.97,  192.96,  190.95,  188.94,\n",
       "        186.93,  184.92,  182.91,  180.9 ,  178.89,  176.88,  174.87,\n",
       "        172.86,  170.85,  168.84,  166.83,  164.82,  162.81,  160.8 ,\n",
       "        158.79,  156.78,  154.77,  152.76,  150.75,  148.74,  146.73,\n",
       "        144.72,  142.71,  140.7 ,  138.69,  136.68,  134.67,  132.66,\n",
       "        130.65,  128.64,  126.63,  124.62,  122.61,  120.6 ,  118.59,\n",
       "        116.58,  114.57,  112.56,  110.55,  108.54,  106.53,  104.52,\n",
       "        102.51,  100.5 ,   98.49,   96.48,   94.47,   92.46,   90.45,\n",
       "         88.44,   86.43,   84.42,   82.41,   80.4 ,   78.39,   76.38,\n",
       "         74.37,   72.36,   70.35,   68.34,   66.33,   64.32,   62.31,\n",
       "         60.3 ,   58.29,   56.28,   54.27,   52.26,   50.25,   48.24,\n",
       "         46.23,   44.22,   42.21,   40.2 ,   38.19,   36.18,   34.17,\n",
       "         32.16,   30.15,   28.14,   26.13,   24.12,   22.11,   20.1 ,\n",
       "         18.09,   16.08,   14.07,   12.06,   10.05,    8.04,    6.03,\n",
       "          4.02,    2.01,   -0.  ,   -2.01,   -4.02,   -6.03,   -8.04,\n",
       "        -10.05,  -12.06,  -14.07,  -16.08,  -18.09,  -20.1 ,  -22.11,\n",
       "        -24.12,  -26.13,  -28.14,  -30.15,  -32.16,  -34.17,  -36.18,\n",
       "        -38.19,  -40.2 ,  -42.21,  -44.22,  -46.23,  -48.24,  -50.25,\n",
       "        -52.26,  -54.27,  -56.28,  -58.29,  -60.3 ,  -62.31,  -64.32,\n",
       "        -66.33,  -68.34,  -70.35,  -72.36,  -74.37,  -76.38,  -78.39,\n",
       "        -80.4 ,  -82.41,  -84.42,  -86.43,  -88.44,  -90.45,  -92.46,\n",
       "        -94.47,  -96.48,  -98.49, -100.5 , -102.51, -104.52, -106.53,\n",
       "       -108.54, -110.55, -112.56, -114.57, -116.58, -118.59, -120.6 ,\n",
       "       -122.61, -124.62, -126.63, -128.64, -130.65, -132.66, -134.67,\n",
       "       -136.68, -138.69, -140.7 , -142.71, -144.72, -146.73, -148.74,\n",
       "       -150.75, -152.76, -154.77, -156.78, -158.79, -160.8 , -162.81,\n",
       "       -164.82, -166.83, -168.84, -170.85, -172.86, -174.87, -176.88,\n",
       "       -178.89, -180.9 , -182.91, -184.92, -186.93, -188.94, -190.95,\n",
       "       -192.96, -194.97, -196.98, -198.99, -201.  ])"
      ]
     },
     "execution_count": 150,
     "metadata": {},
     "output_type": "execute_result"
    }
   ],
   "source": [
    "dv"
   ]
  },
  {
   "cell_type": "code",
   "execution_count": 187,
   "metadata": {},
   "outputs": [
    {
     "data": {
      "text/plain": [
       "(10, 40, 30, 1.0149253731343282, 0.9950248756218905)"
      ]
     },
     "execution_count": 187,
     "metadata": {},
     "output_type": "execute_result"
    },
    {
     "data": {
      "image/png": "[encoded data removed]",
      "text/plain": [
       "<Figure size 600x300 with 1 Axes>"
      ]
     },
     "metadata": {},
     "output_type": "display_data"
    }
   ],
   "source": [
    "plt.figure(figsize=(6,3))\n",
    "nobs = 14\n",
    "nk = 51\n",
    "dbeta=6.7e-6\n",
    "dv = - dbeta*3e5 * np.arange(np.floor(-nk/2.+.5), np.floor(nk/2.+.5))\n",
    "vsini=30\n",
    "period = 5.2\n",
    "arr = np.ones((nobs, nk))\n",
    "start = int(nk/2 - (vsini/dv.max()) * nk/2)\n",
    "end = int(nk/2 + (vsini/dv.max()) * nk/2)\n",
    "arr[8, start] = 0.5\n",
    "arr[13, end] = 0.5\n",
    "plt.imshow(arr[:,:], \n",
    "        extent=(dv.min(), dv.max(), period, 0),\n",
    "        aspect=int(vsini),\n",
    "        cmap='YlOrBr_r')\n",
    "plt.xlabel(\"velocity (km/s)\")\n",
    "plt.ylabel(\"Elapsed time (h)\")\n",
    "start, end, end-start, nk/dv.max(), 2/(dbeta*3e5)"
   ]
  },
  {
   "cell_type": "code",
   "execution_count": 137,
   "metadata": {},
   "outputs": [
    {
     "data": {
      "text/plain": [
       "2.2222222222222223e-05"
      ]
     },
     "execution_count": 137,
     "metadata": {},
     "output_type": "execute_result"
    }
   ],
   "source": [
    "1/45000"
   ]
  },
  {
   "cell_type": "code",
   "execution_count": 188,
   "metadata": {},
   "outputs": [
    {
     "data": {
      "text/plain": [
       "1e-05"
      ]
     },
     "execution_count": 188,
     "metadata": {},
     "output_type": "execute_result"
    }
   ],
   "source": [
    "1/100000"
   ]
  },
  {
   "cell_type": "code",
   "execution_count": 45,
   "metadata": {},
   "outputs": [
    {
     "data": {
      "text/plain": [
       "2.0100000000000002"
      ]
     },
     "execution_count": 45,
     "metadata": {},
     "output_type": "execute_result"
    }
   ],
   "source": [
    "dbeta * 3e5"
   ]
  },
  {
   "cell_type": "code",
   "execution_count": 75,
   "metadata": {},
   "outputs": [
    {
     "data": {
      "text/plain": [
       "array([ 75. ,  73.5,  72. ,  70.5,  69. ,  67.5,  66. ,  64.5,  63. ,\n",
       "        61.5,  60. ,  58.5,  57. ,  55.5,  54. ,  52.5,  51. ,  49.5,\n",
       "        48. ,  46.5,  45. ,  43.5,  42. ,  40.5,  39. ,  37.5,  36. ,\n",
       "        34.5,  33. ,  31.5,  30. ,  28.5,  27. ,  25.5,  24. ,  22.5,\n",
       "        21. ,  19.5,  18. ,  16.5,  15. ,  13.5,  12. ,  10.5,   9. ,\n",
       "         7.5,   6. ,   4.5,   3. ,   1.5,  -0. ,  -1.5,  -3. ,  -4.5,\n",
       "        -6. ,  -7.5,  -9. , -10.5, -12. , -13.5, -15. , -16.5, -18. ,\n",
       "       -19.5, -21. , -22.5, -24. , -25.5, -27. , -28.5, -30. , -31.5,\n",
       "       -33. , -34.5, -36. , -37.5, -39. , -40.5, -42. , -43.5, -45. ,\n",
       "       -46.5, -48. , -49.5, -51. , -52.5, -54. , -55.5, -57. , -58.5,\n",
       "       -60. , -61.5, -63. , -64.5, -66. , -67.5, -69. , -70.5, -72. ,\n",
       "       -73.5, -75. ])"
      ]
     },
     "execution_count": 75,
     "metadata": {},
     "output_type": "execute_result"
    }
   ],
   "source": [
    "nk = 101\n",
    "dbeta=5e-06\n",
    "dv = - dbeta*3e5 * np.arange(np.floor(-nk/2.+.5), np.floor(nk/2.+.5))\n"
   ]
  }
 ],
 "metadata": {
  "kernelspec": {
   "display_name": "Python 3",
   "language": "python",
   "name": "python3"
  },
  "language_info": {
   "codemirror_mode": {
    "name": "ipython",
    "version": 3
   },
   "file_extension": ".py",
   "mimetype": "text/x-python",
   "name": "python",
   "nbconvert_exporter": "python",
   "pygments_lexer": "ipython3",
   "version": "3.9.6"
  },
  "orig_nbformat": 4,
  "vscode": {
   "interpreter": {
    "hash": "31f2aee4e71d21fbe5cf8b01ff0e069b9275f58929596ceb00d14d90e3e16cd6"
   }
  }
 },
 "nbformat": 4,
 "nbformat_minor": 2
}
